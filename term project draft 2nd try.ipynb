{
 "cells": [
  {
   "cell_type": "markdown",
   "id": "3e00a848",
   "metadata": {},
   "source": [
    "## Downloading Data"
   ]
  },
  {
   "cell_type": "code",
   "execution_count": 191,
   "id": "b1ab3969",
   "metadata": {},
   "outputs": [],
   "source": [
    "import pandas as pd"
   ]
  },
  {
   "cell_type": "code",
   "execution_count": 192,
   "id": "ee350db6",
   "metadata": {
    "scrolled": true
   },
   "outputs": [
    {
     "data": {
      "text/html": [
       "<div>\n",
       "<style scoped>\n",
       "    .dataframe tbody tr th:only-of-type {\n",
       "        vertical-align: middle;\n",
       "    }\n",
       "\n",
       "    .dataframe tbody tr th {\n",
       "        vertical-align: top;\n",
       "    }\n",
       "\n",
       "    .dataframe thead th {\n",
       "        text-align: right;\n",
       "    }\n",
       "</style>\n",
       "<table border=\"1\" class=\"dataframe\">\n",
       "  <thead>\n",
       "    <tr style=\"text-align: right;\">\n",
       "      <th></th>\n",
       "      <th>show_id</th>\n",
       "      <th>type</th>\n",
       "      <th>title</th>\n",
       "      <th>director</th>\n",
       "      <th>cast</th>\n",
       "      <th>country</th>\n",
       "      <th>date_added</th>\n",
       "      <th>release_year</th>\n",
       "      <th>rating</th>\n",
       "      <th>duration</th>\n",
       "      <th>listed_in</th>\n",
       "      <th>description</th>\n",
       "      <th>platform</th>\n",
       "    </tr>\n",
       "  </thead>\n",
       "  <tbody>\n",
       "    <tr>\n",
       "      <th>0</th>\n",
       "      <td>s1</td>\n",
       "      <td>Movie</td>\n",
       "      <td>Dick Johnson Is Dead</td>\n",
       "      <td>Kirsten Johnson</td>\n",
       "      <td>NaN</td>\n",
       "      <td>United States</td>\n",
       "      <td>September 25, 2021</td>\n",
       "      <td>2020</td>\n",
       "      <td>PG-13</td>\n",
       "      <td>90 min</td>\n",
       "      <td>Documentaries</td>\n",
       "      <td>As her father nears the end of his life, filmm...</td>\n",
       "      <td>netflix</td>\n",
       "    </tr>\n",
       "    <tr>\n",
       "      <th>1</th>\n",
       "      <td>s2</td>\n",
       "      <td>TV Show</td>\n",
       "      <td>Blood &amp; Water</td>\n",
       "      <td>NaN</td>\n",
       "      <td>Ama Qamata, Khosi Ngema, Gail Mabalane, Thaban...</td>\n",
       "      <td>South Africa</td>\n",
       "      <td>September 24, 2021</td>\n",
       "      <td>2021</td>\n",
       "      <td>TV-MA</td>\n",
       "      <td>2 Seasons</td>\n",
       "      <td>International TV Shows, TV Dramas, TV Mysteries</td>\n",
       "      <td>After crossing paths at a party, a Cape Town t...</td>\n",
       "      <td>netflix</td>\n",
       "    </tr>\n",
       "    <tr>\n",
       "      <th>2</th>\n",
       "      <td>s3</td>\n",
       "      <td>TV Show</td>\n",
       "      <td>Ganglands</td>\n",
       "      <td>Julien Leclercq</td>\n",
       "      <td>Sami Bouajila, Tracy Gotoas, Samuel Jouy, Nabi...</td>\n",
       "      <td>NaN</td>\n",
       "      <td>September 24, 2021</td>\n",
       "      <td>2021</td>\n",
       "      <td>TV-MA</td>\n",
       "      <td>1 Season</td>\n",
       "      <td>Crime TV Shows, International TV Shows, TV Act...</td>\n",
       "      <td>To protect his family from a powerful drug lor...</td>\n",
       "      <td>netflix</td>\n",
       "    </tr>\n",
       "  </tbody>\n",
       "</table>\n",
       "</div>"
      ],
      "text/plain": [
       "  show_id     type                 title         director  \\\n",
       "0      s1    Movie  Dick Johnson Is Dead  Kirsten Johnson   \n",
       "1      s2  TV Show         Blood & Water              NaN   \n",
       "2      s3  TV Show             Ganglands  Julien Leclercq   \n",
       "\n",
       "                                                cast        country  \\\n",
       "0                                                NaN  United States   \n",
       "1  Ama Qamata, Khosi Ngema, Gail Mabalane, Thaban...   South Africa   \n",
       "2  Sami Bouajila, Tracy Gotoas, Samuel Jouy, Nabi...            NaN   \n",
       "\n",
       "           date_added  release_year rating   duration  \\\n",
       "0  September 25, 2021          2020  PG-13     90 min   \n",
       "1  September 24, 2021          2021  TV-MA  2 Seasons   \n",
       "2  September 24, 2021          2021  TV-MA   1 Season   \n",
       "\n",
       "                                           listed_in  \\\n",
       "0                                      Documentaries   \n",
       "1    International TV Shows, TV Dramas, TV Mysteries   \n",
       "2  Crime TV Shows, International TV Shows, TV Act...   \n",
       "\n",
       "                                         description platform  \n",
       "0  As her father nears the end of his life, filmm...  netflix  \n",
       "1  After crossing paths at a party, a Cape Town t...  netflix  \n",
       "2  To protect his family from a powerful drug lor...  netflix  "
      ]
     },
     "execution_count": 192,
     "metadata": {},
     "output_type": "execute_result"
    }
   ],
   "source": [
    "# Just uploading and merging 4 datasets from keggle:\n",
    "# https://www.kaggle.com/datasets/shivamb/netflix-shows\n",
    "# These are just listings of movies and tv shows from 4 different platforms\n",
    "\n",
    "netflix = pd.read_csv(\"netflix_titles.csv\")\n",
    "hulu = pd.read_csv(\"hulu_titles.csv\")\n",
    "disney = pd.read_csv(\"disney_plus_titles.csv\")\n",
    "amazon = pd.read_csv(\"amazon_prime_titles.csv\")\n",
    "\n",
    "netflix['platform'] = 'netflix'\n",
    "hulu['platform'] = 'hulu'\n",
    "disney['platform'] = 'disney'\n",
    "amazon['platform'] = 'amazon'\n",
    "\n",
    "platform = [netflix, hulu, disney, amazon]\n",
    "streaming = pd.concat(platform)\n",
    "    \n",
    "streaming.head(3)"
   ]
  },
  {
   "cell_type": "code",
   "execution_count": 193,
   "id": "fbe6482a",
   "metadata": {},
   "outputs": [
    {
     "data": {
      "text/plain": [
       "(8807, 3073, 1450, 9668, 22998)"
      ]
     },
     "execution_count": 193,
     "metadata": {},
     "output_type": "execute_result"
    }
   ],
   "source": [
    "len(netflix), len(hulu), len(disney), len(amazon), len(streaming),"
   ]
  },
  {
   "cell_type": "code",
   "execution_count": 194,
   "id": "9b3a9913",
   "metadata": {},
   "outputs": [],
   "source": [
    "streaming = streaming.dropna(subset='description')"
   ]
  },
  {
   "cell_type": "code",
   "execution_count": 195,
   "id": "8bed2d87",
   "metadata": {},
   "outputs": [
    {
     "name": "stdout",
     "output_type": "stream",
     "text": [
      "<class 'pandas.core.frame.DataFrame'>\n",
      "Int64Index: 22994 entries, 0 to 9667\n",
      "Data columns (total 13 columns):\n",
      " #   Column        Non-Null Count  Dtype \n",
      "---  ------        --------------  ----- \n",
      " 0   show_id       22994 non-null  object\n",
      " 1   type          22994 non-null  object\n",
      " 2   title         22994 non-null  object\n",
      " 3   director      14739 non-null  object\n",
      " 4   cast          17677 non-null  object\n",
      " 5   country       11499 non-null  object\n",
      " 6   date_added    13440 non-null  object\n",
      " 7   release_year  22994 non-null  int64 \n",
      " 8   rating        22133 non-null  object\n",
      " 9   duration      22515 non-null  object\n",
      " 10  listed_in     22994 non-null  object\n",
      " 11  description   22994 non-null  object\n",
      " 12  platform      22994 non-null  object\n",
      "dtypes: int64(1), object(12)\n",
      "memory usage: 2.5+ MB\n"
     ]
    }
   ],
   "source": [
    "streaming.info()"
   ]
  },
  {
   "cell_type": "markdown",
   "id": "4da804a0",
   "metadata": {},
   "source": [
    "## Data Processing - Description (Stemming, Removing Stopwords)"
   ]
  },
  {
   "cell_type": "code",
   "execution_count": 196,
   "id": "50d816c2",
   "metadata": {},
   "outputs": [],
   "source": [
    "import re\n",
    "import string\n",
    "from nltk.stem import PorterStemmer\n",
    "from nltk.corpus import stopwords"
   ]
  },
  {
   "cell_type": "code",
   "execution_count": 197,
   "id": "e06fb30a",
   "metadata": {},
   "outputs": [
    {
     "data": {
      "text/plain": [
       "0    as father near end life filmmak kirsten johnso...\n",
       "1    after cross path parti cape town teen set prov...\n",
       "2    to protect famili power drug lord skill thief ...\n",
       "Name: tock_disc, dtype: object"
      ]
     },
     "execution_count": 197,
     "metadata": {},
     "output_type": "execute_result"
    }
   ],
   "source": [
    "# Punctuation and irrelevant words was excluded (aka stemming) + everything was lowercased, and then put in a separate column\n",
    "\n",
    "tokens = []\n",
    "porter = PorterStemmer()\n",
    "filter = set(stopwords.words('english'))\n",
    "\n",
    "for i in range(len(streaming)):\n",
    "    token = streaming['description'].iloc[i]\n",
    "    if type(token) != str:\n",
    "        token = token.to_string()\n",
    "        token = re.sub(f'...\\n{i}','',token)\n",
    "        token = re.sub('\\u200b','',token)\n",
    "        token = re.sub(f'{i} ','',token)\n",
    "    token = re.sub(r'[^\\w\\s]','',token)\n",
    "    token = token.split()\n",
    "    token = [porter.stem(word) for word in token if not word in filter]\n",
    "    token = ' '.join(token)        \n",
    "    tokens.append(token)\n",
    "\n",
    "streaming['tock_disc'] = tokens\n",
    "\n",
    "streaming['tock_disc'].head(3)"
   ]
  },
  {
   "cell_type": "markdown",
   "id": "1fca967a",
   "metadata": {},
   "source": [
    "## Data Processing - Genre (Breakdown Subgenres)"
   ]
  },
  {
   "cell_type": "code",
   "execution_count": 198,
   "id": "f30df56d",
   "metadata": {},
   "outputs": [
    {
     "data": {
      "text/plain": [
       "listed_in\n",
       "Drama                           1061\n",
       "Comedy                           608\n",
       "Documentaries                    573\n",
       "Comedy, Drama                    421\n",
       "Drama, Suspense                  399\n",
       "Documentary                      375\n",
       "Animation, Kids                  373\n",
       "Kids                             367\n",
       "Dramas, International Movies     362\n",
       "Stand-Up Comedy                  334\n",
       "Name: count, dtype: int64"
      ]
     },
     "execution_count": 198,
     "metadata": {},
     "output_type": "execute_result"
    }
   ],
   "source": [
    "# I grouped everything by genre and esssentially counted all keywords within a genre\n",
    "# NOTE: Drama is the largest set\n",
    "\n",
    "streaming_sum = streaming.groupby('listed_in').agg({'tock_disc': ['sum'], 'listed_in': ['count']})\n",
    "streaming_sum[\"listed_in\"][\"count\"].sort_values(ascending=False).head(10)"
   ]
  },
  {
   "cell_type": "code",
   "execution_count": 199,
   "id": "162deb2f",
   "metadata": {},
   "outputs": [],
   "source": [
    "# Punctionation and irrelevant words was excluded (aka stemming) + everything was lowercased, and then put in a separate column\n",
    "\n",
    "def quick_func(breakdown):\n",
    "    breakdown = re.split(' |, | and |-',breakdown)\n",
    "    to_remove = ['&', '/', 'and', 'of', \"Fi\", \"Up\", 'Coming', 'Special', 'Show', 'Shows', 'Late', 'Age', 'Language', \"Interest\", \"Feature\"]\n",
    "    breakdown = [i for i in breakdown if i not in to_remove]\n",
    "    breakdown = [porter.stem(x) for x in breakdown]\n",
    "    if \"kids'\" in breakdown:\n",
    "        breakdown.remove(\"kids'\")\n",
    "        breakdown.append(\"kid\")\n",
    "    if \"children\" in breakdown:\n",
    "        breakdown.remove(\"children\")\n",
    "        breakdown.append(\"kid\")   \n",
    "    if \"lgbtq+\" in breakdown:\n",
    "        breakdown.remove(\"lgbtq+\")\n",
    "        breakdown.append(\"lgbtq\")\n",
    "    if \"romanc\" in breakdown:\n",
    "        breakdown.remove(\"romanc\")\n",
    "        breakdown.append(\"romant\")\n",
    "    if \"film\" in breakdown:\n",
    "        breakdown.remove(\"film\")\n",
    "        breakdown.append(\"movi\")\n",
    "    if \"histor\" in breakdown:\n",
    "        breakdown.remove(\"histor\")\n",
    "        breakdown.append(\"histori\")\n",
    "    breakdown = set(breakdown)\n",
    "    breakdown = list(breakdown)\n",
    "    return breakdown\n",
    "\n",
    "streaming['listed_in_breakdown'] = streaming['listed_in'].map(lambda x: quick_func(x))"
   ]
  },
  {
   "cell_type": "code",
   "execution_count": 200,
   "id": "bff4c1c0",
   "metadata": {},
   "outputs": [
    {
     "data": {
      "text/plain": [
       "drama     7918\n",
       "comedi    5912\n",
       "intern    4674\n",
       "movi      4512\n",
       "action    3691\n",
       "dtype: int64"
      ]
     },
     "execution_count": 200,
     "metadata": {},
     "output_type": "execute_result"
    }
   ],
   "source": [
    "# I counted a number of instances after breaking down the subgenres\n",
    "# NOTE: Drama is the most popular subgenre\n",
    "\n",
    "flat_list = streaming['listed_in_breakdown'].to_list()\n",
    "flat_list = [item for sublist in flat_list for item in sublist]\n",
    "flat_list = pd.DataFrame(flat_list)\n",
    "flat_list.value_counts().head(5)"
   ]
  },
  {
   "cell_type": "code",
   "execution_count": 201,
   "id": "fdee21f8",
   "metadata": {},
   "outputs": [
    {
     "data": {
      "text/html": [
       "<div>\n",
       "<style scoped>\n",
       "    .dataframe tbody tr th:only-of-type {\n",
       "        vertical-align: middle;\n",
       "    }\n",
       "\n",
       "    .dataframe tbody tr th {\n",
       "        vertical-align: top;\n",
       "    }\n",
       "\n",
       "    .dataframe thead th {\n",
       "        text-align: right;\n",
       "    }\n",
       "</style>\n",
       "<table border=\"1\" class=\"dataframe\">\n",
       "  <thead>\n",
       "    <tr style=\"text-align: right;\">\n",
       "      <th></th>\n",
       "      <th>show_id</th>\n",
       "      <th>type</th>\n",
       "      <th>title</th>\n",
       "      <th>director</th>\n",
       "      <th>cast</th>\n",
       "      <th>country</th>\n",
       "      <th>date_added</th>\n",
       "      <th>release_year</th>\n",
       "      <th>rating</th>\n",
       "      <th>duration</th>\n",
       "      <th>listed_in</th>\n",
       "      <th>description</th>\n",
       "      <th>platform</th>\n",
       "      <th>tock_disc</th>\n",
       "      <th>listed_in_breakdown</th>\n",
       "      <th>drama</th>\n",
       "    </tr>\n",
       "  </thead>\n",
       "  <tbody>\n",
       "    <tr>\n",
       "      <th>0</th>\n",
       "      <td>s1</td>\n",
       "      <td>Movie</td>\n",
       "      <td>Dick Johnson Is Dead</td>\n",
       "      <td>Kirsten Johnson</td>\n",
       "      <td>NaN</td>\n",
       "      <td>United States</td>\n",
       "      <td>September 25, 2021</td>\n",
       "      <td>2020</td>\n",
       "      <td>PG-13</td>\n",
       "      <td>90 min</td>\n",
       "      <td>Documentaries</td>\n",
       "      <td>As her father nears the end of his life, filmm...</td>\n",
       "      <td>netflix</td>\n",
       "      <td>as father near end life filmmak kirsten johnso...</td>\n",
       "      <td>[documentari]</td>\n",
       "      <td>0</td>\n",
       "    </tr>\n",
       "    <tr>\n",
       "      <th>1</th>\n",
       "      <td>s2</td>\n",
       "      <td>TV Show</td>\n",
       "      <td>Blood &amp; Water</td>\n",
       "      <td>NaN</td>\n",
       "      <td>Ama Qamata, Khosi Ngema, Gail Mabalane, Thaban...</td>\n",
       "      <td>South Africa</td>\n",
       "      <td>September 24, 2021</td>\n",
       "      <td>2021</td>\n",
       "      <td>TV-MA</td>\n",
       "      <td>2 Seasons</td>\n",
       "      <td>International TV Shows, TV Dramas, TV Mysteries</td>\n",
       "      <td>After crossing paths at a party, a Cape Town t...</td>\n",
       "      <td>netflix</td>\n",
       "      <td>after cross path parti cape town teen set prov...</td>\n",
       "      <td>[intern, mysteri, drama, tv]</td>\n",
       "      <td>1</td>\n",
       "    </tr>\n",
       "    <tr>\n",
       "      <th>2</th>\n",
       "      <td>s3</td>\n",
       "      <td>TV Show</td>\n",
       "      <td>Ganglands</td>\n",
       "      <td>Julien Leclercq</td>\n",
       "      <td>Sami Bouajila, Tracy Gotoas, Samuel Jouy, Nabi...</td>\n",
       "      <td>NaN</td>\n",
       "      <td>September 24, 2021</td>\n",
       "      <td>2021</td>\n",
       "      <td>TV-MA</td>\n",
       "      <td>1 Season</td>\n",
       "      <td>Crime TV Shows, International TV Shows, TV Act...</td>\n",
       "      <td>To protect his family from a powerful drug lor...</td>\n",
       "      <td>netflix</td>\n",
       "      <td>to protect famili power drug lord skill thief ...</td>\n",
       "      <td>[action, intern, adventur, tv, crime]</td>\n",
       "      <td>0</td>\n",
       "    </tr>\n",
       "  </tbody>\n",
       "</table>\n",
       "</div>"
      ],
      "text/plain": [
       "  show_id     type                 title         director  \\\n",
       "0      s1    Movie  Dick Johnson Is Dead  Kirsten Johnson   \n",
       "1      s2  TV Show         Blood & Water              NaN   \n",
       "2      s3  TV Show             Ganglands  Julien Leclercq   \n",
       "\n",
       "                                                cast        country  \\\n",
       "0                                                NaN  United States   \n",
       "1  Ama Qamata, Khosi Ngema, Gail Mabalane, Thaban...   South Africa   \n",
       "2  Sami Bouajila, Tracy Gotoas, Samuel Jouy, Nabi...            NaN   \n",
       "\n",
       "           date_added  release_year rating   duration  \\\n",
       "0  September 25, 2021          2020  PG-13     90 min   \n",
       "1  September 24, 2021          2021  TV-MA  2 Seasons   \n",
       "2  September 24, 2021          2021  TV-MA   1 Season   \n",
       "\n",
       "                                           listed_in  \\\n",
       "0                                      Documentaries   \n",
       "1    International TV Shows, TV Dramas, TV Mysteries   \n",
       "2  Crime TV Shows, International TV Shows, TV Act...   \n",
       "\n",
       "                                         description platform  \\\n",
       "0  As her father nears the end of his life, filmm...  netflix   \n",
       "1  After crossing paths at a party, a Cape Town t...  netflix   \n",
       "2  To protect his family from a powerful drug lor...  netflix   \n",
       "\n",
       "                                           tock_disc  \\\n",
       "0  as father near end life filmmak kirsten johnso...   \n",
       "1  after cross path parti cape town teen set prov...   \n",
       "2  to protect famili power drug lord skill thief ...   \n",
       "\n",
       "                     listed_in_breakdown  drama  \n",
       "0                          [documentari]      0  \n",
       "1           [intern, mysteri, drama, tv]      1  \n",
       "2  [action, intern, adventur, tv, crime]      0  "
      ]
     },
     "execution_count": 201,
     "metadata": {},
     "output_type": "execute_result"
    }
   ],
   "source": [
    "# Created a column with values 1 and 0 for whether or not there is drama in the list\n",
    "\n",
    "streaming['drama'] = streaming.apply(lambda x: 1 if 'drama' in x['listed_in_breakdown'] else 0, axis=1)\n",
    "streaming.head(3)"
   ]
  },
  {
   "cell_type": "markdown",
   "id": "94278c79",
   "metadata": {},
   "source": [
    "## Building Model"
   ]
  },
  {
   "cell_type": "code",
   "execution_count": 202,
   "id": "85425622",
   "metadata": {},
   "outputs": [
    {
     "data": {
      "text/plain": [
       "(array([0, 1, 0], dtype=int64),\n",
       " ['as father near end life filmmak kirsten johnson stage death invent comic way help face inevit',\n",
       "  'after cross path parti cape town teen set prove whether privateschool swim star sister abduct birth',\n",
       "  'to protect famili power drug lord skill thief mehdi expert team robber pull violent deadli turf war'])"
      ]
     },
     "execution_count": 202,
     "metadata": {},
     "output_type": "execute_result"
    }
   ],
   "source": [
    "# drama_result is the target, flat_list is the processed description\n",
    "\n",
    "flat_list = streaming['tock_disc'].to_list()\n",
    "drama_result = streaming.iloc[:,15].values \n",
    "\n",
    "# just to demonstrate\n",
    "drama_result[0:3], flat_list[0:3]"
   ]
  },
  {
   "cell_type": "code",
   "execution_count": 203,
   "id": "81c9556d",
   "metadata": {},
   "outputs": [],
   "source": [
    "from sklearn.feature_extraction.text import CountVectorizer\n",
    "from sklearn.model_selection import train_test_split\n",
    "from sklearn.ensemble import RandomForestClassifier\n",
    "import time\n",
    "\n",
    "start = time.time()\n",
    "\n",
    "cv = CountVectorizer()\n",
    "X = cv.fit_transform(flat_list).toarray()\n",
    "y = drama_result\n",
    "\n",
    "# Splitting the dataset into the Training set and Test set\n",
    "X_train, X_test, y_train, y_test = train_test_split(X, y, test_size = 0.20, random_state = 0)\n",
    "\n",
    "# RandomForestClassifier - Fitting classifier to the Training set\n",
    "classifier=RandomForestClassifier(n_estimators = 100,criterion=\"entropy\",random_state =0)\n",
    "classifier.fit(X_train,y_train)\n",
    "\n",
    "# Predicting the Test set results\n",
    "y_pred = classifier.predict(X_test)\n",
    "\n",
    "end = time.time()"
   ]
  },
  {
   "cell_type": "code",
   "execution_count": 210,
   "id": "a135fbe0",
   "metadata": {},
   "outputs": [
    {
     "data": {
      "text/plain": [
       "(6, 'minutes')"
      ]
     },
     "execution_count": 210,
     "metadata": {},
     "output_type": "execute_result"
    }
   ],
   "source": [
    "round((end - start) / 60), \"minutes\""
   ]
  },
  {
   "cell_type": "code",
   "execution_count": 205,
   "id": "aea50703",
   "metadata": {},
   "outputs": [
    {
     "data": {
      "text/plain": [
       "((2806, 1133, 476, 184), 0.7212121212121212, 0.2958359229334991)"
      ]
     },
     "execution_count": 205,
     "metadata": {},
     "output_type": "execute_result"
    }
   ],
   "source": [
    "from sklearn.metrics import confusion_matrix, precision_score, recall_score\n",
    "\n",
    "# Making the Confusion Matrix\n",
    "cm2 = confusion_matrix(y_test, y_pred)\n",
    "ps = precision_score(y_test, y_pred)\n",
    "rs = recall_score(y_test, y_pred)\n",
    "\n",
    "tn, fp, fn, tp = cm2.ravel()\n",
    "(tn, fn, tp, fp), ps, rs"
   ]
  },
  {
   "cell_type": "markdown",
   "id": "17b48740",
   "metadata": {},
   "source": [
    "## Drafts and Side Notes"
   ]
  },
  {
   "cell_type": "raw",
   "id": "0470ca94",
   "metadata": {},
   "source": [
    "# just to inspect genre breakdown\n",
    "flat_list = streaming['listed_in_breakdown'].to_list()\n",
    "flat_list = set([item for sublist in list for item in sublist])\n",
    "flat_list, len(flat_list)"
   ]
  },
  {
   "cell_type": "raw",
   "id": "db9d4c5b",
   "metadata": {},
   "source": [
    "drama_list = [x for nestedlist in list(streaming[streaming['listed_in'] == \"Drama\"]['tock_disc']) for x in nestedlist]"
   ]
  },
  {
   "cell_type": "raw",
   "id": "7a75411a",
   "metadata": {},
   "source": [
    "# Then I tried \"keytotext\", it's a library for generating sentences from keywords, it's not super impressive but I just wanted \n",
    "# to try NLP. We may consider digging deeper into that field. \n",
    "\n",
    "# This loop essentially chooses a random genre then picks a few keywords belonging to it and tries to generate a sentence out of \n",
    "# them. Again, not super impressive at the current state, but we might consider doing a deep dive into NLPs for our project.\n",
    "\n",
    "from keytotext import pipeline\n",
    "\n",
    "nlp = pipeline(\"k2t-base\")\n",
    "config = {\"do_sample\": True, \"num_beams\": 4, \"no_repeat_ngram_size\": 3, \"early_stopping\": True}\n",
    "    \n",
    "for i in range(3): \n",
    "    ran_genre = random.choice(streaming_sum.index)\n",
    "    ran_words = []\n",
    "    \n",
    "    for i in range(12):\n",
    "        ran_words.append(random.choice(streaming_sum['tock_disc']['sum'][ran_genre]))\n",
    "        ran_genre, ran_words\n",
    "    print(\"Genres: \", ran_genre, end = \"\\n\\n\")\n",
    "    print(\"Keywords: \", ran_words, end = \"\\n\\n\")\n",
    "    print(\"Attempt: \", nlp(ran_words, **config), end = \"\\n\\n\\n\")"
   ]
  }
 ],
 "metadata": {
  "kernelspec": {
   "display_name": "Python 3 (ipykernel)",
   "language": "python",
   "name": "python3"
  },
  "language_info": {
   "codemirror_mode": {
    "name": "ipython",
    "version": 3
   },
   "file_extension": ".py",
   "mimetype": "text/x-python",
   "name": "python",
   "nbconvert_exporter": "python",
   "pygments_lexer": "ipython3",
   "version": "3.9.13"
  }
 },
 "nbformat": 4,
 "nbformat_minor": 5
}
